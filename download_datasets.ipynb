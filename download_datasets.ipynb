{
 "cells": [
  {
   "cell_type": "code",
   "execution_count": 1,
   "id": "46c81301-80ca-4eb5-85eb-e60084abd31f",
   "metadata": {},
   "outputs": [],
   "source": [
    "from sklearn.preprocessing import StandardScaler\n",
    "from constants import log\n",
    "from dataset_utils import SADataset"
   ]
  },
  {
   "cell_type": "code",
   "execution_count": 3,
   "id": "b1cd9917-faeb-447e-9b71-2f9775d0c760",
   "metadata": {},
   "outputs": [
    {
     "name": "stdout",
     "output_type": "stream",
     "text": [
      "NWTCO\n",
      "METABRIC\n",
      "SUPPORT\n",
      "GBSG\n",
      "FLCHAIN\n",
      "prostateSurvival\n",
      "------- DOWNLOADING THE DATASET...\n",
      "------- TRAIN Dataset prostateSurvival, 11054 samples\n",
      "------- TEST Dataset prostateSurvival, 11054 samples\n",
      "KKBOX\n",
      "------- DOWNLOADING THE DATASET...\n",
      "------- TRAIN Dataset KKBOX, 2814735 samples\n",
      "------- TEST Dataset KKBOX, 2814735 samples\n"
     ]
    }
   ],
   "source": [
    "# load datasets\n",
    "datasets = [\n",
    "    'NWTCO',\n",
    "    'METABRIC',\n",
    "    'SUPPORT',\n",
    "    'GBSG',\n",
    "    'FLCHAIN',\n",
    "    'prostateSurvival',\n",
    "    'KKBOX'\n",
    "]\n",
    "for dataset in datasets:\n",
    "    print(dataset)\n",
    "    sa_dataset = SADataset(dataset)\n",
    "    sa_dataset.load_dataset()"
   ]
  },
  {
   "cell_type": "code",
   "execution_count": null,
   "id": "b4e4f244-ae75-43e8-86fe-3747a5532ff0",
   "metadata": {},
   "outputs": [],
   "source": []
  }
 ],
 "metadata": {
  "kernelspec": {
   "display_name": "sa-proj-ker",
   "language": "python",
   "name": "sa-proj-ker"
  },
  "language_info": {
   "codemirror_mode": {
    "name": "ipython",
    "version": 3
   },
   "file_extension": ".py",
   "mimetype": "text/x-python",
   "name": "python",
   "nbconvert_exporter": "python",
   "pygments_lexer": "ipython3",
   "version": "3.9.16"
  }
 },
 "nbformat": 4,
 "nbformat_minor": 5
}
