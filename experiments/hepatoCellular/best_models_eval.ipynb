{
 "cells": [
  {
   "cell_type": "code",
   "execution_count": 22,
   "id": "2255be7c-f6cb-451e-b5fd-1db1ea5a2e15",
   "metadata": {},
   "outputs": [
    {
     "name": "stdout",
     "output_type": "stream",
     "text": [
      "Experiments over hepatoCellular\n"
     ]
    }
   ],
   "source": [
    "from pycox.evaluation import EvalSurv\n",
    "import torch\n",
    "import torchtuples as tt\n",
    "import os\n",
    "import pickle\n",
    "from lifelines.utils import concordance_index\n",
    "\n",
    "from utils import dataset_name\n",
    "from eval_utils import MODEL_CLASS, get_results, DL_MODELS, ML_MODELS, MODELS\n",
    "import numpy as np\n",
    "import pandas as pd\n",
    "np.random.seed(42)\n",
    "_ = torch.manual_seed(42)\n",
    "\n",
    "\n",
    "print(f\"Experiments over {dataset_name}\")"
   ]
  },
  {
   "cell_type": "code",
   "execution_count": 23,
   "id": "3ab3d5d7-5a64-45a8-ac62-f8cb39345160",
   "metadata": {},
   "outputs": [],
   "source": [
    "train = pd.read_csv(f\"../../datasets/train/{dataset_name}.csv\")\n",
    "test = pd.read_csv(f\"../../datasets/test/{dataset_name}.csv\")\n",
    "\n",
    "X, y = train.drop([\"event\", \"duration\"], axis=1), train[[\"event\", \"duration\"]]\n",
    "X_test, y_test = test.drop([\"event\", \"duration\"], axis=1), test[[\"event\", \"duration\"]]"
   ]
  },
  {
   "cell_type": "markdown",
   "id": "767ea0ab-374b-412f-a161-9073971b1d22",
   "metadata": {},
   "source": [
    "# Finding the best parameters for each model and run the models over the test data"
   ]
  },
  {
   "cell_type": "code",
   "execution_count": 24,
   "id": "185dcc6b-c3cf-46e0-9890-37c39cc59362",
   "metadata": {},
   "outputs": [],
   "source": [
    "results = pd.DataFrame()\n",
    "     \n",
    "for model in MODELS:\n",
    "    stats = pickle.load( open( f\"statistics/{model}/best_model.pkl\", \"rb\" ))\n",
    "    df = pd.DataFrame(stats, index=[model])\n",
    "    results = pd.concat([results, df], axis=0)\n",
    "    \n",
    "c_index_df = results[[\"c_index\", \"c_index_std\", \"c_index_params\"]].sort_values(\"c_index\", ascending=False)\n",
    "concordance_td_df = results[[\"concordance_td\", \"concordance_td_std\", \"concordance_td_params\"]].sort_values(\"concordance_td\", ascending=False)\n",
    "ibs_df = results[[\"ibs\", \"ibs_std\", \"ibs_params\"]].sort_values(\"ibs\", ascending=True)"
   ]
  },
  {
   "cell_type": "markdown",
   "id": "efa74baf-272b-47bb-98e6-a61e62402a09",
   "metadata": {},
   "source": [
    "## `c index`"
   ]
  },
  {
   "cell_type": "code",
   "execution_count": 25,
   "id": "71d08946-5a1a-4377-a406-0f6e28419473",
   "metadata": {},
   "outputs": [
    {
     "data": {
      "text/html": [
       "<div>\n",
       "<style scoped>\n",
       "    .dataframe tbody tr th:only-of-type {\n",
       "        vertical-align: middle;\n",
       "    }\n",
       "\n",
       "    .dataframe tbody tr th {\n",
       "        vertical-align: top;\n",
       "    }\n",
       "\n",
       "    .dataframe thead th {\n",
       "        text-align: right;\n",
       "    }\n",
       "</style>\n",
       "<table border=\"1\" class=\"dataframe\">\n",
       "  <thead>\n",
       "    <tr style=\"text-align: right;\">\n",
       "      <th></th>\n",
       "      <th>c_index</th>\n",
       "      <th>c_index_std</th>\n",
       "      <th>c_index_params</th>\n",
       "    </tr>\n",
       "  </thead>\n",
       "  <tbody>\n",
       "    <tr>\n",
       "      <th>cox_time</th>\n",
       "      <td>0.725330</td>\n",
       "      <td>0.047206</td>\n",
       "      <td>cox_time_dropout_0.1_num_nodes_[28, 28, 100, 2...</td>\n",
       "    </tr>\n",
       "    <tr>\n",
       "      <th>deep_surv</th>\n",
       "      <td>0.719306</td>\n",
       "      <td>0.069547</td>\n",
       "      <td>deep_surv_dropout_0.2_num_nodes_[16, 32, 64, 6...</td>\n",
       "    </tr>\n",
       "    <tr>\n",
       "      <th>gbst</th>\n",
       "      <td>0.696838</td>\n",
       "      <td>0.065022</td>\n",
       "      <td>gbst_learning_rate_0.1_n_estimators_100_subsam...</td>\n",
       "    </tr>\n",
       "    <tr>\n",
       "      <th>rsf</th>\n",
       "      <td>0.679879</td>\n",
       "      <td>0.025176</td>\n",
       "      <td>rsf_n_estimators_200_max_depth_10_min_samples_...</td>\n",
       "    </tr>\n",
       "    <tr>\n",
       "      <th>reg_coxph</th>\n",
       "      <td>0.619029</td>\n",
       "      <td>0.053475</td>\n",
       "      <td>reg_coxph_l1_ratio_0.1_tol_0.1_max_iter_1000_v...</td>\n",
       "    </tr>\n",
       "    <tr>\n",
       "      <th>deep_hit</th>\n",
       "      <td>0.603726</td>\n",
       "      <td>0.037770</td>\n",
       "      <td>deep_hit_dropout_0.3_num_nodes_[3, 5]_activati...</td>\n",
       "    </tr>\n",
       "    <tr>\n",
       "      <th>pc_hazard</th>\n",
       "      <td>0.594232</td>\n",
       "      <td>0.048275</td>\n",
       "      <td>pc_hazard_dropout_0.1_num_nodes_[256, 256]_act...</td>\n",
       "    </tr>\n",
       "  </tbody>\n",
       "</table>\n",
       "</div>"
      ],
      "text/plain": [
       "            c_index  c_index_std  \\\n",
       "cox_time   0.725330     0.047206   \n",
       "deep_surv  0.719306     0.069547   \n",
       "gbst       0.696838     0.065022   \n",
       "rsf        0.679879     0.025176   \n",
       "reg_coxph  0.619029     0.053475   \n",
       "deep_hit   0.603726     0.037770   \n",
       "pc_hazard  0.594232     0.048275   \n",
       "\n",
       "                                              c_index_params  \n",
       "cox_time   cox_time_dropout_0.1_num_nodes_[28, 28, 100, 2...  \n",
       "deep_surv  deep_surv_dropout_0.2_num_nodes_[16, 32, 64, 6...  \n",
       "gbst       gbst_learning_rate_0.1_n_estimators_100_subsam...  \n",
       "rsf        rsf_n_estimators_200_max_depth_10_min_samples_...  \n",
       "reg_coxph  reg_coxph_l1_ratio_0.1_tol_0.1_max_iter_1000_v...  \n",
       "deep_hit   deep_hit_dropout_0.3_num_nodes_[3, 5]_activati...  \n",
       "pc_hazard  pc_hazard_dropout_0.1_num_nodes_[256, 256]_act...  "
      ]
     },
     "execution_count": 25,
     "metadata": {},
     "output_type": "execute_result"
    }
   ],
   "source": [
    "c_index_df"
   ]
  },
  {
   "cell_type": "code",
   "execution_count": 26,
   "id": "3e8963de-0a61-4414-8e93-839896bcd19a",
   "metadata": {},
   "outputs": [
    {
     "name": "stdout",
     "output_type": "stream",
     "text": [
      "cox_time 0.8125\n",
      "gbst 0.8\n",
      "rsf 0.7938\n",
      "deep_surv 0.7562\n",
      "reg_coxph 0.7375\n",
      "pc_hazard 0.575\n",
      "deep_hit 0.3625\n"
     ]
    }
   ],
   "source": [
    "results = []\n",
    "column = \"c_index_params\"\n",
    "\n",
    "\n",
    "for model_name, params in zip(c_index_df.index, c_index_df[column]):\n",
    "    if model_name in DL_MODELS:\n",
    "        c_index, concordance_td, ibs = get_results(params, model_name, X, y, X_test, y_test)\n",
    "        results.append((model_name, c_index))\n",
    "    else:\n",
    "        c_index, concordance_td, ibs = get_results(params, model_name, X, y, X_test, y_test)\n",
    "        results.append((model_name, c_index))\n",
    "\n",
    "for m,val in sorted(results, key=lambda x: x[1], reverse=True):\n",
    "    print(m, np.round(val,4))"
   ]
  },
  {
   "cell_type": "markdown",
   "id": "22944afc-0888-43c7-ae90-62ecf1a208c9",
   "metadata": {},
   "source": [
    "___"
   ]
  },
  {
   "cell_type": "markdown",
   "id": "93ef6075-55b8-41a9-a028-adaa2739de0d",
   "metadata": {},
   "source": [
    "## `concordance td`"
   ]
  },
  {
   "cell_type": "code",
   "execution_count": 27,
   "id": "bf434206-346c-4118-9aad-d6f098a0f300",
   "metadata": {},
   "outputs": [
    {
     "data": {
      "text/html": [
       "<div>\n",
       "<style scoped>\n",
       "    .dataframe tbody tr th:only-of-type {\n",
       "        vertical-align: middle;\n",
       "    }\n",
       "\n",
       "    .dataframe tbody tr th {\n",
       "        vertical-align: top;\n",
       "    }\n",
       "\n",
       "    .dataframe thead th {\n",
       "        text-align: right;\n",
       "    }\n",
       "</style>\n",
       "<table border=\"1\" class=\"dataframe\">\n",
       "  <thead>\n",
       "    <tr style=\"text-align: right;\">\n",
       "      <th></th>\n",
       "      <th>concordance_td</th>\n",
       "      <th>concordance_td_std</th>\n",
       "      <th>concordance_td_params</th>\n",
       "    </tr>\n",
       "  </thead>\n",
       "  <tbody>\n",
       "    <tr>\n",
       "      <th>deep_surv</th>\n",
       "      <td>0.719306</td>\n",
       "      <td>0.069547</td>\n",
       "      <td>deep_surv_dropout_0.2_num_nodes_[16, 32, 64, 6...</td>\n",
       "    </tr>\n",
       "    <tr>\n",
       "      <th>cox_time</th>\n",
       "      <td>0.708213</td>\n",
       "      <td>0.045099</td>\n",
       "      <td>cox_time_dropout_0.1_num_nodes_[28, 28, 100, 2...</td>\n",
       "    </tr>\n",
       "    <tr>\n",
       "      <th>deep_hit</th>\n",
       "      <td>0.702880</td>\n",
       "      <td>0.091373</td>\n",
       "      <td>deep_hit_dropout_0.3_num_nodes_[28, 28, 100, 2...</td>\n",
       "    </tr>\n",
       "    <tr>\n",
       "      <th>gbst</th>\n",
       "      <td>0.696838</td>\n",
       "      <td>0.065022</td>\n",
       "      <td>gbst_learning_rate_0.1_n_estimators_100_subsam...</td>\n",
       "    </tr>\n",
       "    <tr>\n",
       "      <th>rsf</th>\n",
       "      <td>0.686449</td>\n",
       "      <td>0.014973</td>\n",
       "      <td>rsf_n_estimators_100_max_depth_10_min_samples_...</td>\n",
       "    </tr>\n",
       "    <tr>\n",
       "      <th>reg_coxph</th>\n",
       "      <td>0.619029</td>\n",
       "      <td>0.053475</td>\n",
       "      <td>reg_coxph_l1_ratio_0.1_tol_0.1_max_iter_1000_v...</td>\n",
       "    </tr>\n",
       "    <tr>\n",
       "      <th>pc_hazard</th>\n",
       "      <td>0.077157</td>\n",
       "      <td>0.069519</td>\n",
       "      <td>pc_hazard_dropout_0.3_num_nodes_[256, 256]_act...</td>\n",
       "    </tr>\n",
       "  </tbody>\n",
       "</table>\n",
       "</div>"
      ],
      "text/plain": [
       "           concordance_td  concordance_td_std  \\\n",
       "deep_surv        0.719306            0.069547   \n",
       "cox_time         0.708213            0.045099   \n",
       "deep_hit         0.702880            0.091373   \n",
       "gbst             0.696838            0.065022   \n",
       "rsf              0.686449            0.014973   \n",
       "reg_coxph        0.619029            0.053475   \n",
       "pc_hazard        0.077157            0.069519   \n",
       "\n",
       "                                       concordance_td_params  \n",
       "deep_surv  deep_surv_dropout_0.2_num_nodes_[16, 32, 64, 6...  \n",
       "cox_time   cox_time_dropout_0.1_num_nodes_[28, 28, 100, 2...  \n",
       "deep_hit   deep_hit_dropout_0.3_num_nodes_[28, 28, 100, 2...  \n",
       "gbst       gbst_learning_rate_0.1_n_estimators_100_subsam...  \n",
       "rsf        rsf_n_estimators_100_max_depth_10_min_samples_...  \n",
       "reg_coxph  reg_coxph_l1_ratio_0.1_tol_0.1_max_iter_1000_v...  \n",
       "pc_hazard  pc_hazard_dropout_0.3_num_nodes_[256, 256]_act...  "
      ]
     },
     "execution_count": 27,
     "metadata": {},
     "output_type": "execute_result"
    }
   ],
   "source": [
    "concordance_td_df"
   ]
  },
  {
   "cell_type": "code",
   "execution_count": 28,
   "id": "b7655a41-51a4-4f64-a2af-9be34bf7144e",
   "metadata": {},
   "outputs": [
    {
     "name": "stdout",
     "output_type": "stream",
     "text": [
      "cox_time 0.8312\n",
      "gbst 0.8\n",
      "rsf 0.7938\n",
      "deep_hit 0.7625\n",
      "deep_surv 0.7562\n",
      "reg_coxph 0.7375\n",
      "pc_hazard 0.6062\n"
     ]
    }
   ],
   "source": [
    "results = []\n",
    "column = \"concordance_td_params\"\n",
    "\n",
    "\n",
    "for model_name, params in zip(concordance_td_df.index, concordance_td_df[column]):\n",
    "    if model_name in DL_MODELS:\n",
    "        c_index, concordance_td, ibs = get_results(params, model_name, X, y, X_test, y_test)\n",
    "        results.append((model_name, concordance_td))\n",
    "    else:\n",
    "        c_index, concordance_td, ibs = get_results(params, model_name, X, y, X_test, y_test)\n",
    "        results.append((model_name, concordance_td))\n",
    "\n",
    "for m,val in sorted(results, key=lambda x: x[1], reverse=True):\n",
    "    print(m, np.round(val,4))"
   ]
  },
  {
   "cell_type": "markdown",
   "id": "ce250005-24d0-4815-b3e2-10b84f70813a",
   "metadata": {},
   "source": [
    "## `integrated brier score`"
   ]
  },
  {
   "cell_type": "code",
   "execution_count": 29,
   "id": "db65308f-1b6a-4ead-8def-c6ac6de20a21",
   "metadata": {},
   "outputs": [
    {
     "data": {
      "text/html": [
       "<div>\n",
       "<style scoped>\n",
       "    .dataframe tbody tr th:only-of-type {\n",
       "        vertical-align: middle;\n",
       "    }\n",
       "\n",
       "    .dataframe tbody tr th {\n",
       "        vertical-align: top;\n",
       "    }\n",
       "\n",
       "    .dataframe thead th {\n",
       "        text-align: right;\n",
       "    }\n",
       "</style>\n",
       "<table border=\"1\" class=\"dataframe\">\n",
       "  <thead>\n",
       "    <tr style=\"text-align: right;\">\n",
       "      <th></th>\n",
       "      <th>ibs</th>\n",
       "      <th>ibs_std</th>\n",
       "      <th>ibs_params</th>\n",
       "    </tr>\n",
       "  </thead>\n",
       "  <tbody>\n",
       "    <tr>\n",
       "      <th>pc_hazard</th>\n",
       "      <td>0.050323</td>\n",
       "      <td>0.016709</td>\n",
       "      <td>pc_hazard_dropout_0.3_num_nodes_[256, 256]_act...</td>\n",
       "    </tr>\n",
       "    <tr>\n",
       "      <th>deep_hit</th>\n",
       "      <td>0.159163</td>\n",
       "      <td>0.038461</td>\n",
       "      <td>deep_hit_dropout_0.1_num_nodes_[32, 32]_activa...</td>\n",
       "    </tr>\n",
       "    <tr>\n",
       "      <th>deep_surv</th>\n",
       "      <td>0.169705</td>\n",
       "      <td>0.035928</td>\n",
       "      <td>deep_surv_dropout_0.2_num_nodes_[16, 32, 64, 6...</td>\n",
       "    </tr>\n",
       "    <tr>\n",
       "      <th>cox_time</th>\n",
       "      <td>0.172812</td>\n",
       "      <td>0.021892</td>\n",
       "      <td>cox_time_dropout_0.1_num_nodes_[28, 28, 100, 2...</td>\n",
       "    </tr>\n",
       "    <tr>\n",
       "      <th>rsf</th>\n",
       "      <td>0.182383</td>\n",
       "      <td>0.009547</td>\n",
       "      <td>rsf_n_estimators_100_max_depth_10_min_samples_...</td>\n",
       "    </tr>\n",
       "    <tr>\n",
       "      <th>gbst</th>\n",
       "      <td>0.187758</td>\n",
       "      <td>0.017340</td>\n",
       "      <td>gbst_learning_rate_0.1_n_estimators_50_subsamp...</td>\n",
       "    </tr>\n",
       "    <tr>\n",
       "      <th>reg_coxph</th>\n",
       "      <td>0.216893</td>\n",
       "      <td>0.013891</td>\n",
       "      <td>reg_coxph_l1_ratio_0.1_tol_0.1_max_iter_1000_v...</td>\n",
       "    </tr>\n",
       "  </tbody>\n",
       "</table>\n",
       "</div>"
      ],
      "text/plain": [
       "                ibs   ibs_std  \\\n",
       "pc_hazard  0.050323  0.016709   \n",
       "deep_hit   0.159163  0.038461   \n",
       "deep_surv  0.169705  0.035928   \n",
       "cox_time   0.172812  0.021892   \n",
       "rsf        0.182383  0.009547   \n",
       "gbst       0.187758  0.017340   \n",
       "reg_coxph  0.216893  0.013891   \n",
       "\n",
       "                                                  ibs_params  \n",
       "pc_hazard  pc_hazard_dropout_0.3_num_nodes_[256, 256]_act...  \n",
       "deep_hit   deep_hit_dropout_0.1_num_nodes_[32, 32]_activa...  \n",
       "deep_surv  deep_surv_dropout_0.2_num_nodes_[16, 32, 64, 6...  \n",
       "cox_time   cox_time_dropout_0.1_num_nodes_[28, 28, 100, 2...  \n",
       "rsf        rsf_n_estimators_100_max_depth_10_min_samples_...  \n",
       "gbst       gbst_learning_rate_0.1_n_estimators_50_subsamp...  \n",
       "reg_coxph  reg_coxph_l1_ratio_0.1_tol_0.1_max_iter_1000_v...  "
      ]
     },
     "execution_count": 29,
     "metadata": {},
     "output_type": "execute_result"
    }
   ],
   "source": [
    "ibs_df"
   ]
  },
  {
   "cell_type": "code",
   "execution_count": 30,
   "id": "98ebc3df-4ce9-4fc0-b200-3bd46bc27cb1",
   "metadata": {},
   "outputs": [
    {
     "name": "stdout",
     "output_type": "stream",
     "text": [
      "deep_hit 0.1497\n",
      "deep_surv 0.1535\n",
      "gbst 0.1574\n",
      "cox_time 0.1597\n",
      "rsf 0.1605\n",
      "reg_coxph 0.195\n",
      "pc_hazard 0.5067\n"
     ]
    }
   ],
   "source": [
    "results = []\n",
    "column = \"ibs_params\"\n",
    "\n",
    "\n",
    "for model_name, params in zip(ibs_df.index, ibs_df[column]):\n",
    "    if model_name in DL_MODELS:\n",
    "        c_index, concordance_td, ibs = get_results(params, model_name, X, y, X_test, y_test)\n",
    "        results.append((model_name, ibs))\n",
    "    else:\n",
    "        c_index, concordance_td, ibs = get_results(params, model_name, X, y, X_test, y_test)\n",
    "        results.append((model_name, ibs))\n",
    "\n",
    "for m,val in sorted(results, key=lambda x: x[1], reverse=False):\n",
    "    print(m, np.round(val,4))"
   ]
  },
  {
   "cell_type": "code",
   "execution_count": null,
   "id": "86462a75-68af-439e-9e80-3c6e65e35845",
   "metadata": {},
   "outputs": [],
   "source": []
  }
 ],
 "metadata": {
  "kernelspec": {
   "display_name": "sa-proj-ker",
   "language": "python",
   "name": "sa-proj-ker"
  },
  "language_info": {
   "codemirror_mode": {
    "name": "ipython",
    "version": 3
   },
   "file_extension": ".py",
   "mimetype": "text/x-python",
   "name": "python",
   "nbconvert_exporter": "python",
   "pygments_lexer": "ipython3",
   "version": "3.9.16"
  }
 },
 "nbformat": 4,
 "nbformat_minor": 5
}
