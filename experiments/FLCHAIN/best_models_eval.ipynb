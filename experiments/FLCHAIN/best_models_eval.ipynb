{
 "cells": [
  {
   "cell_type": "code",
   "execution_count": 14,
   "id": "2255be7c-f6cb-451e-b5fd-1db1ea5a2e15",
   "metadata": {},
   "outputs": [
    {
     "name": "stdout",
     "output_type": "stream",
     "text": [
      "Experiments over FLCHAIN\n"
     ]
    }
   ],
   "source": [
    "from pycox.evaluation import EvalSurv\n",
    "import torch\n",
    "import torchtuples as tt\n",
    "import os\n",
    "import pickle\n",
    "from lifelines.utils import concordance_index\n",
    "\n",
    "from utils import dataset_name\n",
    "from eval_utils import MODEL_CLASS, get_results, DL_MODELS, ML_MODELS, MODELS\n",
    "import numpy as np\n",
    "import pandas as pd\n",
    "np.random.seed(42)\n",
    "_ = torch.manual_seed(42)\n",
    "\n",
    "\n",
    "print(f\"Experiments over {dataset_name}\")"
   ]
  },
  {
   "cell_type": "code",
   "execution_count": 15,
   "id": "3ab3d5d7-5a64-45a8-ac62-f8cb39345160",
   "metadata": {},
   "outputs": [],
   "source": [
    "train = pd.read_csv(f\"../../datasets/train/{dataset_name}.csv\")\n",
    "test = pd.read_csv(f\"../../datasets/test/{dataset_name}.csv\")\n",
    "\n",
    "X, y = train.drop([\"event\", \"duration\"], axis=1), train[[\"event\", \"duration\"]]\n",
    "X_test, y_test = test.drop([\"event\", \"duration\"], axis=1), test[[\"event\", \"duration\"]]"
   ]
  },
  {
   "cell_type": "markdown",
   "id": "767ea0ab-374b-412f-a161-9073971b1d22",
   "metadata": {},
   "source": [
    "# Finding the best parameters for each model and run the models over the test data"
   ]
  },
  {
   "cell_type": "code",
   "execution_count": 16,
   "id": "185dcc6b-c3cf-46e0-9890-37c39cc59362",
   "metadata": {},
   "outputs": [],
   "source": [
    "results = pd.DataFrame()\n",
    "     \n",
    "for model in MODELS:\n",
    "    stats = pickle.load( open( f\"statistics/{model}/best_model.pkl\", \"rb\" ))\n",
    "    df = pd.DataFrame(stats, index=[model])\n",
    "    results = pd.concat([results, df], axis=0)\n",
    "    \n",
    "c_index_df = results[[\"c_index\", \"c_index_std\", \"c_index_params\"]].sort_values(\"c_index\", ascending=False)\n",
    "concordance_td_df = results[[\"concordance_td\", \"concordance_td_std\", \"concordance_td_params\"]].sort_values(\"concordance_td\", ascending=False)\n",
    "ibs_df = results[[\"ibs\", \"ibs_std\", \"ibs_params\"]].sort_values(\"ibs\", ascending=True)"
   ]
  },
  {
   "cell_type": "markdown",
   "id": "efa74baf-272b-47bb-98e6-a61e62402a09",
   "metadata": {},
   "source": [
    "## `c index`"
   ]
  },
  {
   "cell_type": "code",
   "execution_count": 17,
   "id": "71d08946-5a1a-4377-a406-0f6e28419473",
   "metadata": {},
   "outputs": [
    {
     "data": {
      "text/html": [
       "<div>\n",
       "<style scoped>\n",
       "    .dataframe tbody tr th:only-of-type {\n",
       "        vertical-align: middle;\n",
       "    }\n",
       "\n",
       "    .dataframe tbody tr th {\n",
       "        vertical-align: top;\n",
       "    }\n",
       "\n",
       "    .dataframe thead th {\n",
       "        text-align: right;\n",
       "    }\n",
       "</style>\n",
       "<table border=\"1\" class=\"dataframe\">\n",
       "  <thead>\n",
       "    <tr style=\"text-align: right;\">\n",
       "      <th></th>\n",
       "      <th>c_index</th>\n",
       "      <th>c_index_std</th>\n",
       "      <th>c_index_params</th>\n",
       "    </tr>\n",
       "  </thead>\n",
       "  <tbody>\n",
       "    <tr>\n",
       "      <th>deep_surv</th>\n",
       "      <td>0.797311</td>\n",
       "      <td>0.013732</td>\n",
       "      <td>deep_surv_dropout_0.1_num_nodes_[100]_activati...</td>\n",
       "    </tr>\n",
       "    <tr>\n",
       "      <th>gbst</th>\n",
       "      <td>0.792264</td>\n",
       "      <td>0.014550</td>\n",
       "      <td>gbst_learning_rate_0.1_n_estimators_100_subsam...</td>\n",
       "    </tr>\n",
       "    <tr>\n",
       "      <th>reg_coxph</th>\n",
       "      <td>0.790805</td>\n",
       "      <td>0.011331</td>\n",
       "      <td>reg_coxph_l1_ratio_0.2_tol_1e-05_max_iter_1000...</td>\n",
       "    </tr>\n",
       "    <tr>\n",
       "      <th>rsf</th>\n",
       "      <td>0.788299</td>\n",
       "      <td>0.017836</td>\n",
       "      <td>rsf_n_estimators_200_max_depth_10_min_samples_...</td>\n",
       "    </tr>\n",
       "    <tr>\n",
       "      <th>cox_time</th>\n",
       "      <td>0.784701</td>\n",
       "      <td>0.008043</td>\n",
       "      <td>cox_time_dropout_0.1_num_nodes_[32, 128, 128]_...</td>\n",
       "    </tr>\n",
       "    <tr>\n",
       "      <th>pc_hazard</th>\n",
       "      <td>0.675961</td>\n",
       "      <td>0.046388</td>\n",
       "      <td>pc_hazard_dropout_0.3_num_nodes_[256, 256]_act...</td>\n",
       "    </tr>\n",
       "    <tr>\n",
       "      <th>deep_hit</th>\n",
       "      <td>0.253414</td>\n",
       "      <td>0.009952</td>\n",
       "      <td>deep_hit_dropout_0.1_num_nodes_[16, 32, 64, 64...</td>\n",
       "    </tr>\n",
       "  </tbody>\n",
       "</table>\n",
       "</div>"
      ],
      "text/plain": [
       "            c_index  c_index_std  \\\n",
       "deep_surv  0.797311     0.013732   \n",
       "gbst       0.792264     0.014550   \n",
       "reg_coxph  0.790805     0.011331   \n",
       "rsf        0.788299     0.017836   \n",
       "cox_time   0.784701     0.008043   \n",
       "pc_hazard  0.675961     0.046388   \n",
       "deep_hit   0.253414     0.009952   \n",
       "\n",
       "                                              c_index_params  \n",
       "deep_surv  deep_surv_dropout_0.1_num_nodes_[100]_activati...  \n",
       "gbst       gbst_learning_rate_0.1_n_estimators_100_subsam...  \n",
       "reg_coxph  reg_coxph_l1_ratio_0.2_tol_1e-05_max_iter_1000...  \n",
       "rsf        rsf_n_estimators_200_max_depth_10_min_samples_...  \n",
       "cox_time   cox_time_dropout_0.1_num_nodes_[32, 128, 128]_...  \n",
       "pc_hazard  pc_hazard_dropout_0.3_num_nodes_[256, 256]_act...  \n",
       "deep_hit   deep_hit_dropout_0.1_num_nodes_[16, 32, 64, 64...  "
      ]
     },
     "execution_count": 17,
     "metadata": {},
     "output_type": "execute_result"
    }
   ],
   "source": [
    "c_index_df"
   ]
  },
  {
   "cell_type": "code",
   "execution_count": 18,
   "id": "3e8963de-0a61-4414-8e93-839896bcd19a",
   "metadata": {},
   "outputs": [
    {
     "name": "stdout",
     "output_type": "stream",
     "text": [
      "reg_coxph 0.7968\n",
      "deep_surv 0.7951\n",
      "rsf 0.795\n",
      "gbst 0.7922\n",
      "cox_time 0.7839\n",
      "deep_hit 0.7341\n",
      "pc_hazard 0.2487\n"
     ]
    }
   ],
   "source": [
    "results = []\n",
    "column = \"c_index_params\"\n",
    "\n",
    "\n",
    "for model_name, params in zip(c_index_df.index, c_index_df[column]):\n",
    "    if model_name in DL_MODELS:\n",
    "        c_index, concordance_td, ibs = get_results(params, model_name, X, y, X_test, y_test)\n",
    "        results.append((model_name, c_index))\n",
    "    else:\n",
    "        c_index, concordance_td, ibs = get_results(params, model_name, X, y, X_test, y_test)\n",
    "        results.append((model_name, c_index))\n",
    "\n",
    "for m,val in sorted(results, key=lambda x: x[1], reverse=True):\n",
    "    print(m, np.round(val,4))"
   ]
  },
  {
   "cell_type": "markdown",
   "id": "22944afc-0888-43c7-ae90-62ecf1a208c9",
   "metadata": {},
   "source": [
    "___"
   ]
  },
  {
   "cell_type": "markdown",
   "id": "93ef6075-55b8-41a9-a028-adaa2739de0d",
   "metadata": {},
   "source": [
    "## `concordance td`"
   ]
  },
  {
   "cell_type": "code",
   "execution_count": 19,
   "id": "bf434206-346c-4118-9aad-d6f098a0f300",
   "metadata": {},
   "outputs": [
    {
     "data": {
      "text/html": [
       "<div>\n",
       "<style scoped>\n",
       "    .dataframe tbody tr th:only-of-type {\n",
       "        vertical-align: middle;\n",
       "    }\n",
       "\n",
       "    .dataframe tbody tr th {\n",
       "        vertical-align: top;\n",
       "    }\n",
       "\n",
       "    .dataframe thead th {\n",
       "        text-align: right;\n",
       "    }\n",
       "</style>\n",
       "<table border=\"1\" class=\"dataframe\">\n",
       "  <thead>\n",
       "    <tr style=\"text-align: right;\">\n",
       "      <th></th>\n",
       "      <th>concordance_td</th>\n",
       "      <th>concordance_td_std</th>\n",
       "      <th>concordance_td_params</th>\n",
       "    </tr>\n",
       "  </thead>\n",
       "  <tbody>\n",
       "    <tr>\n",
       "      <th>deep_surv</th>\n",
       "      <td>0.797311</td>\n",
       "      <td>0.013732</td>\n",
       "      <td>deep_surv_dropout_0.1_num_nodes_[100]_activati...</td>\n",
       "    </tr>\n",
       "    <tr>\n",
       "      <th>deep_hit</th>\n",
       "      <td>0.794666</td>\n",
       "      <td>0.010514</td>\n",
       "      <td>deep_hit_dropout_0.3_num_nodes_[28, 28, 100, 2...</td>\n",
       "    </tr>\n",
       "    <tr>\n",
       "      <th>gbst</th>\n",
       "      <td>0.792071</td>\n",
       "      <td>0.014577</td>\n",
       "      <td>gbst_learning_rate_0.1_n_estimators_100_subsam...</td>\n",
       "    </tr>\n",
       "    <tr>\n",
       "      <th>reg_coxph</th>\n",
       "      <td>0.790805</td>\n",
       "      <td>0.011331</td>\n",
       "      <td>reg_coxph_l1_ratio_0.2_tol_1e-05_max_iter_1000...</td>\n",
       "    </tr>\n",
       "    <tr>\n",
       "      <th>rsf</th>\n",
       "      <td>0.784042</td>\n",
       "      <td>0.017322</td>\n",
       "      <td>rsf_n_estimators_200_max_depth_5_min_samples_s...</td>\n",
       "    </tr>\n",
       "    <tr>\n",
       "      <th>cox_time</th>\n",
       "      <td>0.783394</td>\n",
       "      <td>0.012919</td>\n",
       "      <td>cox_time_dropout_0.1_num_nodes_[32, 128, 128]_...</td>\n",
       "    </tr>\n",
       "    <tr>\n",
       "      <th>pc_hazard</th>\n",
       "      <td>0.639115</td>\n",
       "      <td>0.043577</td>\n",
       "      <td>pc_hazard_dropout_0.3_num_nodes_[100]_activati...</td>\n",
       "    </tr>\n",
       "  </tbody>\n",
       "</table>\n",
       "</div>"
      ],
      "text/plain": [
       "           concordance_td  concordance_td_std  \\\n",
       "deep_surv        0.797311            0.013732   \n",
       "deep_hit         0.794666            0.010514   \n",
       "gbst             0.792071            0.014577   \n",
       "reg_coxph        0.790805            0.011331   \n",
       "rsf              0.784042            0.017322   \n",
       "cox_time         0.783394            0.012919   \n",
       "pc_hazard        0.639115            0.043577   \n",
       "\n",
       "                                       concordance_td_params  \n",
       "deep_surv  deep_surv_dropout_0.1_num_nodes_[100]_activati...  \n",
       "deep_hit   deep_hit_dropout_0.3_num_nodes_[28, 28, 100, 2...  \n",
       "gbst       gbst_learning_rate_0.1_n_estimators_100_subsam...  \n",
       "reg_coxph  reg_coxph_l1_ratio_0.2_tol_1e-05_max_iter_1000...  \n",
       "rsf        rsf_n_estimators_200_max_depth_5_min_samples_s...  \n",
       "cox_time   cox_time_dropout_0.1_num_nodes_[32, 128, 128]_...  \n",
       "pc_hazard  pc_hazard_dropout_0.3_num_nodes_[100]_activati...  "
      ]
     },
     "execution_count": 19,
     "metadata": {},
     "output_type": "execute_result"
    }
   ],
   "source": [
    "concordance_td_df"
   ]
  },
  {
   "cell_type": "code",
   "execution_count": 20,
   "id": "b7655a41-51a4-4f64-a2af-9be34bf7144e",
   "metadata": {},
   "outputs": [
    {
     "name": "stdout",
     "output_type": "stream",
     "text": [
      "reg_coxph 0.7968\n",
      "deep_surv 0.7951\n",
      "gbst 0.7919\n",
      "rsf 0.7898\n",
      "deep_hit 0.7851\n",
      "cox_time 0.7633\n",
      "pc_hazard 0.3158\n"
     ]
    }
   ],
   "source": [
    "results = []\n",
    "column = \"concordance_td_params\"\n",
    "\n",
    "\n",
    "for model_name, params in zip(concordance_td_df.index, concordance_td_df[column]):\n",
    "    if model_name in DL_MODELS:\n",
    "        c_index, concordance_td, ibs = get_results(params, model_name, X, y, X_test, y_test)\n",
    "        results.append((model_name, concordance_td))\n",
    "    else:\n",
    "        c_index, concordance_td, ibs = get_results(params, model_name, X, y, X_test, y_test)\n",
    "        results.append((model_name, concordance_td))\n",
    "\n",
    "for m,val in sorted(results, key=lambda x: x[1], reverse=True):\n",
    "    print(m, np.round(val,4))"
   ]
  },
  {
   "cell_type": "markdown",
   "id": "ce250005-24d0-4815-b3e2-10b84f70813a",
   "metadata": {},
   "source": [
    "## `integrated brier score`"
   ]
  },
  {
   "cell_type": "code",
   "execution_count": 21,
   "id": "db65308f-1b6a-4ead-8def-c6ac6de20a21",
   "metadata": {},
   "outputs": [
    {
     "data": {
      "text/html": [
       "<div>\n",
       "<style scoped>\n",
       "    .dataframe tbody tr th:only-of-type {\n",
       "        vertical-align: middle;\n",
       "    }\n",
       "\n",
       "    .dataframe tbody tr th {\n",
       "        vertical-align: top;\n",
       "    }\n",
       "\n",
       "    .dataframe thead th {\n",
       "        text-align: right;\n",
       "    }\n",
       "</style>\n",
       "<table border=\"1\" class=\"dataframe\">\n",
       "  <thead>\n",
       "    <tr style=\"text-align: right;\">\n",
       "      <th></th>\n",
       "      <th>ibs</th>\n",
       "      <th>ibs_std</th>\n",
       "      <th>ibs_params</th>\n",
       "    </tr>\n",
       "  </thead>\n",
       "  <tbody>\n",
       "    <tr>\n",
       "      <th>pc_hazard</th>\n",
       "      <td>0.026777</td>\n",
       "      <td>0.003477</td>\n",
       "      <td>pc_hazard_dropout_0.3_num_nodes_[16, 16, 16, 6...</td>\n",
       "    </tr>\n",
       "    <tr>\n",
       "      <th>deep_surv</th>\n",
       "      <td>0.096429</td>\n",
       "      <td>0.005028</td>\n",
       "      <td>deep_surv_dropout_0.1_num_nodes_[100]_activati...</td>\n",
       "    </tr>\n",
       "    <tr>\n",
       "      <th>reg_coxph</th>\n",
       "      <td>0.098747</td>\n",
       "      <td>0.004502</td>\n",
       "      <td>reg_coxph_l1_ratio_0.1_tol_0.1_max_iter_1000_v...</td>\n",
       "    </tr>\n",
       "    <tr>\n",
       "      <th>gbst</th>\n",
       "      <td>0.098943</td>\n",
       "      <td>0.004602</td>\n",
       "      <td>gbst_learning_rate_0.1_n_estimators_100_subsam...</td>\n",
       "    </tr>\n",
       "    <tr>\n",
       "      <th>rsf</th>\n",
       "      <td>0.098962</td>\n",
       "      <td>0.004451</td>\n",
       "      <td>rsf_n_estimators_200_max_depth_10_min_samples_...</td>\n",
       "    </tr>\n",
       "    <tr>\n",
       "      <th>cox_time</th>\n",
       "      <td>0.106136</td>\n",
       "      <td>0.006701</td>\n",
       "      <td>cox_time_dropout_0.1_num_nodes_[32, 128, 128]_...</td>\n",
       "    </tr>\n",
       "    <tr>\n",
       "      <th>deep_hit</th>\n",
       "      <td>0.375623</td>\n",
       "      <td>0.023328</td>\n",
       "      <td>deep_hit_dropout_0.3_num_nodes_[3, 5]_activati...</td>\n",
       "    </tr>\n",
       "  </tbody>\n",
       "</table>\n",
       "</div>"
      ],
      "text/plain": [
       "                ibs   ibs_std  \\\n",
       "pc_hazard  0.026777  0.003477   \n",
       "deep_surv  0.096429  0.005028   \n",
       "reg_coxph  0.098747  0.004502   \n",
       "gbst       0.098943  0.004602   \n",
       "rsf        0.098962  0.004451   \n",
       "cox_time   0.106136  0.006701   \n",
       "deep_hit   0.375623  0.023328   \n",
       "\n",
       "                                                  ibs_params  \n",
       "pc_hazard  pc_hazard_dropout_0.3_num_nodes_[16, 16, 16, 6...  \n",
       "deep_surv  deep_surv_dropout_0.1_num_nodes_[100]_activati...  \n",
       "reg_coxph  reg_coxph_l1_ratio_0.1_tol_0.1_max_iter_1000_v...  \n",
       "gbst       gbst_learning_rate_0.1_n_estimators_100_subsam...  \n",
       "rsf        rsf_n_estimators_200_max_depth_10_min_samples_...  \n",
       "cox_time   cox_time_dropout_0.1_num_nodes_[32, 128, 128]_...  \n",
       "deep_hit   deep_hit_dropout_0.3_num_nodes_[3, 5]_activati...  "
      ]
     },
     "execution_count": 21,
     "metadata": {},
     "output_type": "execute_result"
    }
   ],
   "source": [
    "ibs_df"
   ]
  },
  {
   "cell_type": "code",
   "execution_count": 22,
   "id": "98ebc3df-4ce9-4fc0-b200-3bd46bc27cb1",
   "metadata": {},
   "outputs": [
    {
     "name": "stdout",
     "output_type": "stream",
     "text": [
      "reg_coxph 0.1022\n",
      "gbst 0.1029\n",
      "rsf 0.1032\n",
      "deep_surv 0.1035\n",
      "cox_time 0.1223\n",
      "deep_hit 0.1791\n",
      "pc_hazard 0.7933\n"
     ]
    }
   ],
   "source": [
    "results = []\n",
    "column = \"ibs_params\"\n",
    "\n",
    "\n",
    "for model_name, params in zip(ibs_df.index, ibs_df[column]):\n",
    "    if model_name in DL_MODELS:\n",
    "        c_index, concordance_td, ibs = get_results(params, model_name, X, y, X_test, y_test)\n",
    "        results.append((model_name, ibs))\n",
    "    else:\n",
    "        c_index, concordance_td, ibs = get_results(params, model_name, X, y, X_test, y_test)\n",
    "        results.append((model_name, ibs))\n",
    "\n",
    "for m,val in sorted(results, key=lambda x: x[1], reverse=False):\n",
    "    print(m, np.round(val,4))"
   ]
  },
  {
   "cell_type": "code",
   "execution_count": null,
   "id": "86462a75-68af-439e-9e80-3c6e65e35845",
   "metadata": {},
   "outputs": [],
   "source": []
  }
 ],
 "metadata": {
  "kernelspec": {
   "display_name": "sa-proj-ker",
   "language": "python",
   "name": "sa-proj-ker"
  },
  "language_info": {
   "codemirror_mode": {
    "name": "ipython",
    "version": 3
   },
   "file_extension": ".py",
   "mimetype": "text/x-python",
   "name": "python",
   "nbconvert_exporter": "python",
   "pygments_lexer": "ipython3",
   "version": "3.9.16"
  }
 },
 "nbformat": 4,
 "nbformat_minor": 5
}
