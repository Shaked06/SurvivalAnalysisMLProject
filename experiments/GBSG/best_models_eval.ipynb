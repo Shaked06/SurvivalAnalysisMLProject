{
 "cells": [
  {
   "cell_type": "code",
   "execution_count": 4,
   "id": "2255be7c-f6cb-451e-b5fd-1db1ea5a2e15",
   "metadata": {},
   "outputs": [
    {
     "name": "stdout",
     "output_type": "stream",
     "text": [
      "Experiments over GBSG\n"
     ]
    }
   ],
   "source": [
    "from pycox.evaluation import EvalSurv\n",
    "import torch\n",
    "import torchtuples as tt\n",
    "import os\n",
    "import pickle\n",
    "from lifelines.utils import concordance_index\n",
    "\n",
    "from utils import dataset_name\n",
    "from eval_utils import MODEL_CLASS, get_results, DL_MODELS, ML_MODELS, MODELS\n",
    "import numpy as np\n",
    "import pandas as pd\n",
    "np.random.seed(42)\n",
    "_ = torch.manual_seed(42)\n",
    "\n",
    "\n",
    "print(f\"Experiments over {dataset_name}\")"
   ]
  },
  {
   "cell_type": "code",
   "execution_count": 5,
   "id": "3ab3d5d7-5a64-45a8-ac62-f8cb39345160",
   "metadata": {},
   "outputs": [],
   "source": [
    "train = pd.read_csv(f\"../../datasets/train/{dataset_name}.csv\")\n",
    "test = pd.read_csv(f\"../../datasets/test/{dataset_name}.csv\")\n",
    "\n",
    "X, y = train.drop([\"event\", \"duration\"], axis=1), train[[\"event\", \"duration\"]]\n",
    "X_test, y_test = test.drop([\"event\", \"duration\"], axis=1), test[[\"event\", \"duration\"]]"
   ]
  },
  {
   "cell_type": "markdown",
   "id": "767ea0ab-374b-412f-a161-9073971b1d22",
   "metadata": {},
   "source": [
    "# Finding the best parameters for each model and run the models over the test data"
   ]
  },
  {
   "cell_type": "code",
   "execution_count": 6,
   "id": "185dcc6b-c3cf-46e0-9890-37c39cc59362",
   "metadata": {},
   "outputs": [],
   "source": [
    "results = pd.DataFrame()\n",
    "     \n",
    "for model in MODELS:\n",
    "    stats = pickle.load( open( f\"statistics/{model}/best_model.pkl\", \"rb\" ))\n",
    "    df = pd.DataFrame(stats, index=[model])\n",
    "    results = pd.concat([results, df], axis=0)\n",
    "    \n",
    "c_index_df = results[[\"c_index\", \"c_index_std\", \"c_index_params\"]].sort_values(\"c_index\", ascending=False)\n",
    "concordance_td_df = results[[\"concordance_td\", \"concordance_td_std\", \"concordance_td_params\"]].sort_values(\"concordance_td\", ascending=False)\n",
    "ibs_df = results[[\"ibs\", \"ibs_std\", \"ibs_params\"]].sort_values(\"ibs\", ascending=True)"
   ]
  },
  {
   "cell_type": "markdown",
   "id": "efa74baf-272b-47bb-98e6-a61e62402a09",
   "metadata": {},
   "source": [
    "## `c index`"
   ]
  },
  {
   "cell_type": "code",
   "execution_count": 7,
   "id": "71d08946-5a1a-4377-a406-0f6e28419473",
   "metadata": {},
   "outputs": [
    {
     "data": {
      "text/html": [
       "<div>\n",
       "<style scoped>\n",
       "    .dataframe tbody tr th:only-of-type {\n",
       "        vertical-align: middle;\n",
       "    }\n",
       "\n",
       "    .dataframe tbody tr th {\n",
       "        vertical-align: top;\n",
       "    }\n",
       "\n",
       "    .dataframe thead th {\n",
       "        text-align: right;\n",
       "    }\n",
       "</style>\n",
       "<table border=\"1\" class=\"dataframe\">\n",
       "  <thead>\n",
       "    <tr style=\"text-align: right;\">\n",
       "      <th></th>\n",
       "      <th>c_index</th>\n",
       "      <th>c_index_std</th>\n",
       "      <th>c_index_params</th>\n",
       "    </tr>\n",
       "  </thead>\n",
       "  <tbody>\n",
       "    <tr>\n",
       "      <th>deep_surv</th>\n",
       "      <td>0.684238</td>\n",
       "      <td>0.016806</td>\n",
       "      <td>deep_surv_dropout_0.1_num_nodes_[32, 32]_activ...</td>\n",
       "    </tr>\n",
       "    <tr>\n",
       "      <th>cox_time</th>\n",
       "      <td>0.679852</td>\n",
       "      <td>0.016667</td>\n",
       "      <td>cox_time_dropout_0.1_num_nodes_[16, 32, 64, 64...</td>\n",
       "    </tr>\n",
       "    <tr>\n",
       "      <th>rsf</th>\n",
       "      <td>0.679400</td>\n",
       "      <td>0.012270</td>\n",
       "      <td>rsf_n_estimators_100_max_depth_10_min_samples_...</td>\n",
       "    </tr>\n",
       "    <tr>\n",
       "      <th>gbst</th>\n",
       "      <td>0.678070</td>\n",
       "      <td>0.015949</td>\n",
       "      <td>gbst_learning_rate_0.01_n_estimators_50_subsam...</td>\n",
       "    </tr>\n",
       "    <tr>\n",
       "      <th>reg_coxph</th>\n",
       "      <td>0.660820</td>\n",
       "      <td>0.017125</td>\n",
       "      <td>reg_coxph_l1_ratio_0.1_tol_1e-09_max_iter_1000...</td>\n",
       "    </tr>\n",
       "    <tr>\n",
       "      <th>pc_hazard</th>\n",
       "      <td>0.578025</td>\n",
       "      <td>0.048076</td>\n",
       "      <td>pc_hazard_dropout_0.1_num_nodes_[16, 16, 16, 6...</td>\n",
       "    </tr>\n",
       "    <tr>\n",
       "      <th>deep_hit</th>\n",
       "      <td>0.493453</td>\n",
       "      <td>0.039836</td>\n",
       "      <td>deep_hit_dropout_0.3_num_nodes_[3, 5]_activati...</td>\n",
       "    </tr>\n",
       "  </tbody>\n",
       "</table>\n",
       "</div>"
      ],
      "text/plain": [
       "            c_index  c_index_std  \\\n",
       "deep_surv  0.684238     0.016806   \n",
       "cox_time   0.679852     0.016667   \n",
       "rsf        0.679400     0.012270   \n",
       "gbst       0.678070     0.015949   \n",
       "reg_coxph  0.660820     0.017125   \n",
       "pc_hazard  0.578025     0.048076   \n",
       "deep_hit   0.493453     0.039836   \n",
       "\n",
       "                                              c_index_params  \n",
       "deep_surv  deep_surv_dropout_0.1_num_nodes_[32, 32]_activ...  \n",
       "cox_time   cox_time_dropout_0.1_num_nodes_[16, 32, 64, 64...  \n",
       "rsf        rsf_n_estimators_100_max_depth_10_min_samples_...  \n",
       "gbst       gbst_learning_rate_0.01_n_estimators_50_subsam...  \n",
       "reg_coxph  reg_coxph_l1_ratio_0.1_tol_1e-09_max_iter_1000...  \n",
       "pc_hazard  pc_hazard_dropout_0.1_num_nodes_[16, 16, 16, 6...  \n",
       "deep_hit   deep_hit_dropout_0.3_num_nodes_[3, 5]_activati...  "
      ]
     },
     "execution_count": 7,
     "metadata": {},
     "output_type": "execute_result"
    }
   ],
   "source": [
    "c_index_df"
   ]
  },
  {
   "cell_type": "code",
   "execution_count": 15,
   "id": "3e8963de-0a61-4414-8e93-839896bcd19a",
   "metadata": {},
   "outputs": [
    {
     "name": "stdout",
     "output_type": "stream",
     "text": [
      "cox_time 0.6629\n",
      "rsf 0.6599\n",
      "gbst 0.6578\n",
      "reg_coxph 0.6562\n",
      "deep_surv 0.6561\n",
      "deep_hit 0.5274\n",
      "pc_hazard 0.4168\n"
     ]
    }
   ],
   "source": [
    "results = []\n",
    "column = \"c_index_params\"\n",
    "\n",
    "\n",
    "for model_name, params in zip(c_index_df.index, c_index_df[column]):\n",
    "    if model_name in DL_MODELS:\n",
    "        c_index, concordance_td, ibs = get_results(params, model_name, X, y, X_test, y_test)\n",
    "        results.append((model_name, c_index))\n",
    "    else:\n",
    "        c_index, concordance_td, ibs = get_results(params, model_name, X, y, X_test, y_test)\n",
    "        results.append((model_name, c_index))\n",
    "\n",
    "for m,val in sorted(results, key=lambda x: x[1], reverse=True):\n",
    "    print(m, np.round(val,4))"
   ]
  },
  {
   "cell_type": "markdown",
   "id": "22944afc-0888-43c7-ae90-62ecf1a208c9",
   "metadata": {},
   "source": [
    "___"
   ]
  },
  {
   "cell_type": "markdown",
   "id": "93ef6075-55b8-41a9-a028-adaa2739de0d",
   "metadata": {},
   "source": [
    "## `concordance td`"
   ]
  },
  {
   "cell_type": "code",
   "execution_count": 10,
   "id": "bf434206-346c-4118-9aad-d6f098a0f300",
   "metadata": {},
   "outputs": [
    {
     "data": {
      "text/html": [
       "<div>\n",
       "<style scoped>\n",
       "    .dataframe tbody tr th:only-of-type {\n",
       "        vertical-align: middle;\n",
       "    }\n",
       "\n",
       "    .dataframe tbody tr th {\n",
       "        vertical-align: top;\n",
       "    }\n",
       "\n",
       "    .dataframe thead th {\n",
       "        text-align: right;\n",
       "    }\n",
       "</style>\n",
       "<table border=\"1\" class=\"dataframe\">\n",
       "  <thead>\n",
       "    <tr style=\"text-align: right;\">\n",
       "      <th></th>\n",
       "      <th>concordance_td</th>\n",
       "      <th>concordance_td_std</th>\n",
       "      <th>concordance_td_params</th>\n",
       "    </tr>\n",
       "  </thead>\n",
       "  <tbody>\n",
       "    <tr>\n",
       "      <th>deep_surv</th>\n",
       "      <td>0.683970</td>\n",
       "      <td>0.016733</td>\n",
       "      <td>deep_surv_dropout_0.1_num_nodes_[32, 32]_activ...</td>\n",
       "    </tr>\n",
       "    <tr>\n",
       "      <th>gbst</th>\n",
       "      <td>0.677993</td>\n",
       "      <td>0.015886</td>\n",
       "      <td>gbst_learning_rate_0.01_n_estimators_50_subsam...</td>\n",
       "    </tr>\n",
       "    <tr>\n",
       "      <th>cox_time</th>\n",
       "      <td>0.677787</td>\n",
       "      <td>0.016194</td>\n",
       "      <td>cox_time_dropout_0.1_num_nodes_[16, 32, 64, 64...</td>\n",
       "    </tr>\n",
       "    <tr>\n",
       "      <th>rsf</th>\n",
       "      <td>0.674173</td>\n",
       "      <td>0.015883</td>\n",
       "      <td>rsf_n_estimators_100_max_depth_10_min_samples_...</td>\n",
       "    </tr>\n",
       "    <tr>\n",
       "      <th>deep_hit</th>\n",
       "      <td>0.662318</td>\n",
       "      <td>0.006979</td>\n",
       "      <td>deep_hit_dropout_0.1_num_nodes_[28, 28, 100, 2...</td>\n",
       "    </tr>\n",
       "    <tr>\n",
       "      <th>reg_coxph</th>\n",
       "      <td>0.660515</td>\n",
       "      <td>0.016824</td>\n",
       "      <td>reg_coxph_l1_ratio_0.1_tol_1e-09_max_iter_1000...</td>\n",
       "    </tr>\n",
       "    <tr>\n",
       "      <th>pc_hazard</th>\n",
       "      <td>0.573562</td>\n",
       "      <td>0.042601</td>\n",
       "      <td>pc_hazard_dropout_0.1_num_nodes_[100]_activati...</td>\n",
       "    </tr>\n",
       "  </tbody>\n",
       "</table>\n",
       "</div>"
      ],
      "text/plain": [
       "           concordance_td  concordance_td_std  \\\n",
       "deep_surv        0.683970            0.016733   \n",
       "gbst             0.677993            0.015886   \n",
       "cox_time         0.677787            0.016194   \n",
       "rsf              0.674173            0.015883   \n",
       "deep_hit         0.662318            0.006979   \n",
       "reg_coxph        0.660515            0.016824   \n",
       "pc_hazard        0.573562            0.042601   \n",
       "\n",
       "                                       concordance_td_params  \n",
       "deep_surv  deep_surv_dropout_0.1_num_nodes_[32, 32]_activ...  \n",
       "gbst       gbst_learning_rate_0.01_n_estimators_50_subsam...  \n",
       "cox_time   cox_time_dropout_0.1_num_nodes_[16, 32, 64, 64...  \n",
       "rsf        rsf_n_estimators_100_max_depth_10_min_samples_...  \n",
       "deep_hit   deep_hit_dropout_0.1_num_nodes_[28, 28, 100, 2...  \n",
       "reg_coxph  reg_coxph_l1_ratio_0.1_tol_1e-09_max_iter_1000...  \n",
       "pc_hazard  pc_hazard_dropout_0.1_num_nodes_[100]_activati...  "
      ]
     },
     "execution_count": 10,
     "metadata": {},
     "output_type": "execute_result"
    }
   ],
   "source": [
    "concordance_td_df"
   ]
  },
  {
   "cell_type": "code",
   "execution_count": 16,
   "id": "b7655a41-51a4-4f64-a2af-9be34bf7144e",
   "metadata": {},
   "outputs": [
    {
     "name": "stdout",
     "output_type": "stream",
     "text": [
      "deep_hit 0.6669\n",
      "rsf 0.6595\n",
      "cox_time 0.6579\n",
      "gbst 0.6578\n",
      "reg_coxph 0.6562\n",
      "deep_surv 0.6561\n",
      "pc_hazard 0.5551\n"
     ]
    }
   ],
   "source": [
    "results = []\n",
    "column = \"concordance_td_params\"\n",
    "\n",
    "\n",
    "for model_name, params in zip(concordance_td_df.index, concordance_td_df[column]):\n",
    "    if model_name in DL_MODELS:\n",
    "        c_index, concordance_td, ibs = get_results(params, model_name, X, y, X_test, y_test)\n",
    "        results.append((model_name, concordance_td))\n",
    "    else:\n",
    "        c_index, concordance_td, ibs = get_results(params, model_name, X, y, X_test, y_test)\n",
    "        results.append((model_name, concordance_td))\n",
    "\n",
    "for m,val in sorted(results, key=lambda x: x[1], reverse=True):\n",
    "    print(m, np.round(val,4))"
   ]
  },
  {
   "cell_type": "markdown",
   "id": "ce250005-24d0-4815-b3e2-10b84f70813a",
   "metadata": {},
   "source": [
    "## `integrated brier score`"
   ]
  },
  {
   "cell_type": "code",
   "execution_count": 12,
   "id": "db65308f-1b6a-4ead-8def-c6ac6de20a21",
   "metadata": {},
   "outputs": [
    {
     "data": {
      "text/html": [
       "<div>\n",
       "<style scoped>\n",
       "    .dataframe tbody tr th:only-of-type {\n",
       "        vertical-align: middle;\n",
       "    }\n",
       "\n",
       "    .dataframe tbody tr th {\n",
       "        vertical-align: top;\n",
       "    }\n",
       "\n",
       "    .dataframe thead th {\n",
       "        text-align: right;\n",
       "    }\n",
       "</style>\n",
       "<table border=\"1\" class=\"dataframe\">\n",
       "  <thead>\n",
       "    <tr style=\"text-align: right;\">\n",
       "      <th></th>\n",
       "      <th>ibs</th>\n",
       "      <th>ibs_std</th>\n",
       "      <th>ibs_params</th>\n",
       "    </tr>\n",
       "  </thead>\n",
       "  <tbody>\n",
       "    <tr>\n",
       "      <th>deep_hit</th>\n",
       "      <td>0.166143</td>\n",
       "      <td>0.016634</td>\n",
       "      <td>deep_hit_dropout_0.3_num_nodes_[16, 32, 64, 64...</td>\n",
       "    </tr>\n",
       "    <tr>\n",
       "      <th>deep_surv</th>\n",
       "      <td>0.174653</td>\n",
       "      <td>0.007440</td>\n",
       "      <td>deep_surv_dropout_0.1_num_nodes_[100]_activati...</td>\n",
       "    </tr>\n",
       "    <tr>\n",
       "      <th>cox_time</th>\n",
       "      <td>0.176549</td>\n",
       "      <td>0.007609</td>\n",
       "      <td>cox_time_dropout_0.1_num_nodes_[32, 128, 128]_...</td>\n",
       "    </tr>\n",
       "    <tr>\n",
       "      <th>rsf</th>\n",
       "      <td>0.176950</td>\n",
       "      <td>0.006720</td>\n",
       "      <td>rsf_n_estimators_100_max_depth_10_min_samples_...</td>\n",
       "    </tr>\n",
       "    <tr>\n",
       "      <th>gbst</th>\n",
       "      <td>0.179145</td>\n",
       "      <td>0.006892</td>\n",
       "      <td>gbst_learning_rate_0.1_n_estimators_50_subsamp...</td>\n",
       "    </tr>\n",
       "    <tr>\n",
       "      <th>reg_coxph</th>\n",
       "      <td>0.184000</td>\n",
       "      <td>0.008836</td>\n",
       "      <td>reg_coxph_l1_ratio_0.1_tol_0.1_max_iter_1000_v...</td>\n",
       "    </tr>\n",
       "    <tr>\n",
       "      <th>pc_hazard</th>\n",
       "      <td>0.644894</td>\n",
       "      <td>0.015739</td>\n",
       "      <td>pc_hazard_dropout_0.1_num_nodes_[16, 16, 16, 6...</td>\n",
       "    </tr>\n",
       "  </tbody>\n",
       "</table>\n",
       "</div>"
      ],
      "text/plain": [
       "                ibs   ibs_std  \\\n",
       "deep_hit   0.166143  0.016634   \n",
       "deep_surv  0.174653  0.007440   \n",
       "cox_time   0.176549  0.007609   \n",
       "rsf        0.176950  0.006720   \n",
       "gbst       0.179145  0.006892   \n",
       "reg_coxph  0.184000  0.008836   \n",
       "pc_hazard  0.644894  0.015739   \n",
       "\n",
       "                                                  ibs_params  \n",
       "deep_hit   deep_hit_dropout_0.3_num_nodes_[16, 32, 64, 64...  \n",
       "deep_surv  deep_surv_dropout_0.1_num_nodes_[100]_activati...  \n",
       "cox_time   cox_time_dropout_0.1_num_nodes_[32, 128, 128]_...  \n",
       "rsf        rsf_n_estimators_100_max_depth_10_min_samples_...  \n",
       "gbst       gbst_learning_rate_0.1_n_estimators_50_subsamp...  \n",
       "reg_coxph  reg_coxph_l1_ratio_0.1_tol_0.1_max_iter_1000_v...  \n",
       "pc_hazard  pc_hazard_dropout_0.1_num_nodes_[16, 16, 16, 6...  "
      ]
     },
     "execution_count": 12,
     "metadata": {},
     "output_type": "execute_result"
    }
   ],
   "source": [
    "ibs_df"
   ]
  },
  {
   "cell_type": "code",
   "execution_count": 17,
   "id": "98ebc3df-4ce9-4fc0-b200-3bd46bc27cb1",
   "metadata": {},
   "outputs": [
    {
     "name": "stdout",
     "output_type": "stream",
     "text": [
      "cox_time 0.1768\n",
      "deep_surv 0.1783\n",
      "rsf 0.1785\n",
      "gbst 0.1788\n",
      "reg_coxph 0.1798\n",
      "deep_hit 0.3711\n",
      "pc_hazard 0.3752\n"
     ]
    }
   ],
   "source": [
    "results = []\n",
    "column = \"ibs_params\"\n",
    "\n",
    "\n",
    "for model_name, params in zip(ibs_df.index, ibs_df[column]):\n",
    "    if model_name in DL_MODELS:\n",
    "        c_index, concordance_td, ibs = get_results(params, model_name, X, y, X_test, y_test)\n",
    "        results.append((model_name, ibs))\n",
    "    else:\n",
    "        c_index, concordance_td, ibs = get_results(params, model_name, X, y, X_test, y_test)\n",
    "        results.append((model_name, ibs))\n",
    "\n",
    "for m,val in sorted(results, key=lambda x: x[1], reverse=False):\n",
    "    print(m, np.round(val,4))"
   ]
  },
  {
   "cell_type": "code",
   "execution_count": null,
   "id": "86462a75-68af-439e-9e80-3c6e65e35845",
   "metadata": {},
   "outputs": [],
   "source": []
  }
 ],
 "metadata": {
  "kernelspec": {
   "display_name": "sa-proj-ker",
   "language": "python",
   "name": "sa-proj-ker"
  },
  "language_info": {
   "codemirror_mode": {
    "name": "ipython",
    "version": 3
   },
   "file_extension": ".py",
   "mimetype": "text/x-python",
   "name": "python",
   "nbconvert_exporter": "python",
   "pygments_lexer": "ipython3",
   "version": "3.9.16"
  }
 },
 "nbformat": 4,
 "nbformat_minor": 5
}
