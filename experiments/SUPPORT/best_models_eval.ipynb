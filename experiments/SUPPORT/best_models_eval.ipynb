{
 "cells": [
  {
   "cell_type": "code",
   "execution_count": 3,
   "id": "2255be7c-f6cb-451e-b5fd-1db1ea5a2e15",
   "metadata": {},
   "outputs": [
    {
     "name": "stdout",
     "output_type": "stream",
     "text": [
      "Experiments over SUPPORT\n"
     ]
    }
   ],
   "source": [
    "from pycox.evaluation import EvalSurv\n",
    "import torch\n",
    "import torchtuples as tt\n",
    "import os\n",
    "import pickle\n",
    "from lifelines.utils import concordance_index\n",
    "\n",
    "from utils import dataset_name\n",
    "from eval_utils import MODEL_CLASS, get_results, DL_MODELS, ML_MODELS, MODELS\n",
    "import numpy as np\n",
    "import pandas as pd\n",
    "np.random.seed(42)\n",
    "_ = torch.manual_seed(42)\n",
    "\n",
    "\n",
    "print(f\"Experiments over {dataset_name}\")"
   ]
  },
  {
   "cell_type": "code",
   "execution_count": 4,
   "id": "3ab3d5d7-5a64-45a8-ac62-f8cb39345160",
   "metadata": {},
   "outputs": [],
   "source": [
    "train = pd.read_csv(f\"../../datasets/train/{dataset_name}.csv\")\n",
    "test = pd.read_csv(f\"../../datasets/test/{dataset_name}.csv\")\n",
    "\n",
    "X, y = train.drop([\"event\", \"duration\"], axis=1), train[[\"event\", \"duration\"]]\n",
    "X_test, y_test = test.drop([\"event\", \"duration\"], axis=1), test[[\"event\", \"duration\"]]"
   ]
  },
  {
   "cell_type": "markdown",
   "id": "767ea0ab-374b-412f-a161-9073971b1d22",
   "metadata": {},
   "source": [
    "# Finding the best parameters for each model and run the models over the test data"
   ]
  },
  {
   "cell_type": "code",
   "execution_count": 5,
   "id": "185dcc6b-c3cf-46e0-9890-37c39cc59362",
   "metadata": {},
   "outputs": [
    {
     "ename": "FileNotFoundError",
     "evalue": "[Errno 2] No such file or directory: 'statistics/deep_hit/best_model.pkl'",
     "output_type": "error",
     "traceback": [
      "\u001b[0;31m---------------------------------------------------------------------------\u001b[0m",
      "\u001b[0;31mFileNotFoundError\u001b[0m                         Traceback (most recent call last)",
      "Cell \u001b[0;32mIn[5], line 4\u001b[0m\n\u001b[1;32m      1\u001b[0m results \u001b[38;5;241m=\u001b[39m pd\u001b[38;5;241m.\u001b[39mDataFrame()\n\u001b[1;32m      3\u001b[0m \u001b[38;5;28;01mfor\u001b[39;00m model \u001b[38;5;129;01min\u001b[39;00m MODELS:\n\u001b[0;32m----> 4\u001b[0m     stats \u001b[38;5;241m=\u001b[39m pickle\u001b[38;5;241m.\u001b[39mload( \u001b[38;5;28;43mopen\u001b[39;49m\u001b[43m(\u001b[49m\u001b[43m \u001b[49m\u001b[38;5;124;43mf\u001b[39;49m\u001b[38;5;124;43m\"\u001b[39;49m\u001b[38;5;124;43mstatistics/\u001b[39;49m\u001b[38;5;132;43;01m{\u001b[39;49;00m\u001b[43mmodel\u001b[49m\u001b[38;5;132;43;01m}\u001b[39;49;00m\u001b[38;5;124;43m/best_model.pkl\u001b[39;49m\u001b[38;5;124;43m\"\u001b[39;49m\u001b[43m,\u001b[49m\u001b[43m \u001b[49m\u001b[38;5;124;43m\"\u001b[39;49m\u001b[38;5;124;43mrb\u001b[39;49m\u001b[38;5;124;43m\"\u001b[39;49m\u001b[43m \u001b[49m\u001b[43m)\u001b[49m)\n\u001b[1;32m      5\u001b[0m     df \u001b[38;5;241m=\u001b[39m pd\u001b[38;5;241m.\u001b[39mDataFrame(stats, index\u001b[38;5;241m=\u001b[39m[model])\n\u001b[1;32m      6\u001b[0m     results \u001b[38;5;241m=\u001b[39m pd\u001b[38;5;241m.\u001b[39mconcat([results, df], axis\u001b[38;5;241m=\u001b[39m\u001b[38;5;241m0\u001b[39m)\n",
      "File \u001b[0;32m~/opt/anaconda3/envs/sa-proj/lib/python3.9/site-packages/IPython/core/interactiveshell.py:284\u001b[0m, in \u001b[0;36m_modified_open\u001b[0;34m(file, *args, **kwargs)\u001b[0m\n\u001b[1;32m    277\u001b[0m \u001b[38;5;28;01mif\u001b[39;00m file \u001b[38;5;129;01min\u001b[39;00m {\u001b[38;5;241m0\u001b[39m, \u001b[38;5;241m1\u001b[39m, \u001b[38;5;241m2\u001b[39m}:\n\u001b[1;32m    278\u001b[0m     \u001b[38;5;28;01mraise\u001b[39;00m \u001b[38;5;167;01mValueError\u001b[39;00m(\n\u001b[1;32m    279\u001b[0m         \u001b[38;5;124mf\u001b[39m\u001b[38;5;124m\"\u001b[39m\u001b[38;5;124mIPython won\u001b[39m\u001b[38;5;124m'\u001b[39m\u001b[38;5;124mt let you open fd=\u001b[39m\u001b[38;5;132;01m{\u001b[39;00mfile\u001b[38;5;132;01m}\u001b[39;00m\u001b[38;5;124m by default \u001b[39m\u001b[38;5;124m\"\u001b[39m\n\u001b[1;32m    280\u001b[0m         \u001b[38;5;124m\"\u001b[39m\u001b[38;5;124mas it is likely to crash IPython. If you know what you are doing, \u001b[39m\u001b[38;5;124m\"\u001b[39m\n\u001b[1;32m    281\u001b[0m         \u001b[38;5;124m\"\u001b[39m\u001b[38;5;124myou can use builtins\u001b[39m\u001b[38;5;124m'\u001b[39m\u001b[38;5;124m open.\u001b[39m\u001b[38;5;124m\"\u001b[39m\n\u001b[1;32m    282\u001b[0m     )\n\u001b[0;32m--> 284\u001b[0m \u001b[38;5;28;01mreturn\u001b[39;00m \u001b[43mio_open\u001b[49m\u001b[43m(\u001b[49m\u001b[43mfile\u001b[49m\u001b[43m,\u001b[49m\u001b[43m \u001b[49m\u001b[38;5;241;43m*\u001b[39;49m\u001b[43margs\u001b[49m\u001b[43m,\u001b[49m\u001b[43m \u001b[49m\u001b[38;5;241;43m*\u001b[39;49m\u001b[38;5;241;43m*\u001b[39;49m\u001b[43mkwargs\u001b[49m\u001b[43m)\u001b[49m\n",
      "\u001b[0;31mFileNotFoundError\u001b[0m: [Errno 2] No such file or directory: 'statistics/deep_hit/best_model.pkl'"
     ]
    }
   ],
   "source": [
    "results = pd.DataFrame()\n",
    "     \n",
    "for model in MODELS:\n",
    "    stats = pickle.load( open( f\"statistics/{model}/best_model.pkl\", \"rb\" ))\n",
    "    df = pd.DataFrame(stats, index=[model])\n",
    "    results = pd.concat([results, df], axis=0)\n",
    "    \n",
    "c_index_df = results[[\"c_index\", \"c_index_std\", \"c_index_params\"]].sort_values(\"c_index\", ascending=False)\n",
    "concordance_td_df = results[[\"concordance_td\", \"concordance_td_std\", \"concordance_td_params\"]].sort_values(\"concordance_td\", ascending=False)\n",
    "ibs_df = results[[\"ibs\", \"ibs_std\", \"ibs_params\"]].sort_values(\"ibs\", ascending=True)"
   ]
  },
  {
   "cell_type": "markdown",
   "id": "efa74baf-272b-47bb-98e6-a61e62402a09",
   "metadata": {},
   "source": [
    "## `c index`"
   ]
  },
  {
   "cell_type": "code",
   "execution_count": null,
   "id": "71d08946-5a1a-4377-a406-0f6e28419473",
   "metadata": {},
   "outputs": [],
   "source": [
    "c_index_df"
   ]
  },
  {
   "cell_type": "code",
   "execution_count": null,
   "id": "3e8963de-0a61-4414-8e93-839896bcd19a",
   "metadata": {},
   "outputs": [],
   "source": [
    "results = []\n",
    "column = \"c_index_params\"\n",
    "\n",
    "\n",
    "for model_name, params in zip(c_index_df.index, c_index_df[column]):\n",
    "    if model_name in DL_MODELS:\n",
    "        c_index, concordance_td, ibs = get_results(params, model_name, X, y, X_test, y_test)\n",
    "        results.append((model_name, c_index))\n",
    "    else:\n",
    "        c_index, concordance_td, ibs = get_results(params, model_name, X, y, X_test, y_test)\n",
    "        results.append((model_name, c_index))\n",
    "\n",
    "for m,val in sorted(results, key=lambda x: x[1], reverse=True):\n",
    "    print(m, val)"
   ]
  },
  {
   "cell_type": "markdown",
   "id": "22944afc-0888-43c7-ae90-62ecf1a208c9",
   "metadata": {},
   "source": [
    "___"
   ]
  },
  {
   "cell_type": "markdown",
   "id": "93ef6075-55b8-41a9-a028-adaa2739de0d",
   "metadata": {},
   "source": [
    "## `concordance td`"
   ]
  },
  {
   "cell_type": "code",
   "execution_count": 6,
   "id": "bf434206-346c-4118-9aad-d6f098a0f300",
   "metadata": {},
   "outputs": [
    {
     "ename": "NameError",
     "evalue": "name 'concordance_td_df' is not defined",
     "output_type": "error",
     "traceback": [
      "\u001b[0;31m---------------------------------------------------------------------------\u001b[0m",
      "\u001b[0;31mNameError\u001b[0m                                 Traceback (most recent call last)",
      "Cell \u001b[0;32mIn[6], line 1\u001b[0m\n\u001b[0;32m----> 1\u001b[0m \u001b[43mconcordance_td_df\u001b[49m\n",
      "\u001b[0;31mNameError\u001b[0m: name 'concordance_td_df' is not defined"
     ]
    }
   ],
   "source": [
    "concordance_td_df"
   ]
  },
  {
   "cell_type": "code",
   "execution_count": 13,
   "id": "b7655a41-51a4-4f64-a2af-9be34bf7144e",
   "metadata": {},
   "outputs": [
    {
     "name": "stdout",
     "output_type": "stream",
     "text": [
      "deep_surv 0.6716753022452504\n",
      "reg_coxph 0.6639032815198618\n",
      "rsf 0.6589810017271157\n",
      "cox_time 0.6576856649395509\n",
      "deep_hit 0.6037996545768567\n",
      "pc_hazard 0.49758203799654577\n"
     ]
    }
   ],
   "source": [
    "results = []\n",
    "column = \"concordance_td_params\"\n",
    "\n",
    "\n",
    "for model_name, params in zip(concordance_td_df.index, concordance_td_df[column]):\n",
    "    if model_name in DL_MODELS:\n",
    "        c_index, concordance_td, ibs = get_results(params, model_name, X, y, X_test, y_test)\n",
    "        results.append((model_name, concordance_td))\n",
    "    else:\n",
    "        c_index, concordance_td, ibs = get_results(params, model_name, X, y, X_test, y_test)\n",
    "        results.append((model_name, concordance_td))\n",
    "\n",
    "for m,val in sorted(results, key=lambda x: x[1], reverse=True):\n",
    "    print(m, val)"
   ]
  },
  {
   "cell_type": "markdown",
   "id": "ce250005-24d0-4815-b3e2-10b84f70813a",
   "metadata": {},
   "source": [
    "## `integrated brier score`"
   ]
  },
  {
   "cell_type": "code",
   "execution_count": 14,
   "id": "db65308f-1b6a-4ead-8def-c6ac6de20a21",
   "metadata": {},
   "outputs": [
    {
     "data": {
      "text/html": [
       "<div>\n",
       "<style scoped>\n",
       "    .dataframe tbody tr th:only-of-type {\n",
       "        vertical-align: middle;\n",
       "    }\n",
       "\n",
       "    .dataframe tbody tr th {\n",
       "        vertical-align: top;\n",
       "    }\n",
       "\n",
       "    .dataframe thead th {\n",
       "        text-align: right;\n",
       "    }\n",
       "</style>\n",
       "<table border=\"1\" class=\"dataframe\">\n",
       "  <thead>\n",
       "    <tr style=\"text-align: right;\">\n",
       "      <th></th>\n",
       "      <th>ibs</th>\n",
       "      <th>ibs_std</th>\n",
       "      <th>ibs_params</th>\n",
       "    </tr>\n",
       "  </thead>\n",
       "  <tbody>\n",
       "    <tr>\n",
       "      <th>deep_hit</th>\n",
       "      <td>0.113506</td>\n",
       "      <td>0.001865</td>\n",
       "      <td>deep_hit_dropout_0.1_num_nodes_[16, 32, 64, 64...</td>\n",
       "    </tr>\n",
       "    <tr>\n",
       "      <th>deep_surv</th>\n",
       "      <td>0.166265</td>\n",
       "      <td>0.006674</td>\n",
       "      <td>deep_surv_dropout_0.16_num_nodes_[41]_activati...</td>\n",
       "    </tr>\n",
       "    <tr>\n",
       "      <th>cox_time</th>\n",
       "      <td>0.166580</td>\n",
       "      <td>0.006295</td>\n",
       "      <td>cox_time_dropout_0.1_num_nodes_[32, 32]_activa...</td>\n",
       "    </tr>\n",
       "    <tr>\n",
       "      <th>rsf</th>\n",
       "      <td>0.168998</td>\n",
       "      <td>0.004748</td>\n",
       "      <td>rsf_n_estimators_200_max_depth_5_min_samples_s...</td>\n",
       "    </tr>\n",
       "    <tr>\n",
       "      <th>reg_coxph</th>\n",
       "      <td>0.170414</td>\n",
       "      <td>0.007362</td>\n",
       "      <td>reg_coxph_l1_ratio_0.1_tol_0.1_max_iter_1000_v...</td>\n",
       "    </tr>\n",
       "    <tr>\n",
       "      <th>pc_hazard</th>\n",
       "      <td>0.247230</td>\n",
       "      <td>0.008502</td>\n",
       "      <td>pc_hazard_dropout_0.3_num_nodes_[16, 16, 16, 1...</td>\n",
       "    </tr>\n",
       "  </tbody>\n",
       "</table>\n",
       "</div>"
      ],
      "text/plain": [
       "                ibs   ibs_std  \\\n",
       "deep_hit   0.113506  0.001865   \n",
       "deep_surv  0.166265  0.006674   \n",
       "cox_time   0.166580  0.006295   \n",
       "rsf        0.168998  0.004748   \n",
       "reg_coxph  0.170414  0.007362   \n",
       "pc_hazard  0.247230  0.008502   \n",
       "\n",
       "                                                  ibs_params  \n",
       "deep_hit   deep_hit_dropout_0.1_num_nodes_[16, 32, 64, 64...  \n",
       "deep_surv  deep_surv_dropout_0.16_num_nodes_[41]_activati...  \n",
       "cox_time   cox_time_dropout_0.1_num_nodes_[32, 32]_activa...  \n",
       "rsf        rsf_n_estimators_200_max_depth_5_min_samples_s...  \n",
       "reg_coxph  reg_coxph_l1_ratio_0.1_tol_0.1_max_iter_1000_v...  \n",
       "pc_hazard  pc_hazard_dropout_0.3_num_nodes_[16, 16, 16, 1...  "
      ]
     },
     "execution_count": 14,
     "metadata": {},
     "output_type": "execute_result"
    }
   ],
   "source": [
    "ibs_df"
   ]
  },
  {
   "cell_type": "code",
   "execution_count": 15,
   "id": "98ebc3df-4ce9-4fc0-b200-3bd46bc27cb1",
   "metadata": {},
   "outputs": [
    {
     "name": "stdout",
     "output_type": "stream",
     "text": [
      "reg_coxph 0.13610432931664593\n",
      "deep_surv 0.14188171823718218\n",
      "cox_time 0.1479041763159939\n",
      "rsf 0.1513038330276852\n",
      "deep_hit 0.3381021312429789\n",
      "pc_hazard 0.44771241187895056\n"
     ]
    }
   ],
   "source": [
    "results = []\n",
    "column = \"ibs_params\"\n",
    "\n",
    "\n",
    "for model_name, params in zip(ibs_df.index, ibs_df[column]):\n",
    "    if model_name in DL_MODELS:\n",
    "        c_index, concordance_td, ibs = get_results(params, model_name, X, y, X_test, y_test)\n",
    "        results.append((model_name, ibs))\n",
    "    else:\n",
    "        c_index, concordance_td, ibs = get_results(params, model_name, X, y, X_test, y_test)\n",
    "        results.append((model_name, ibs))\n",
    "\n",
    "for m,val in sorted(results, key=lambda x: x[1], reverse=False):\n",
    "    print(m, val)"
   ]
  },
  {
   "cell_type": "code",
   "execution_count": null,
   "id": "86462a75-68af-439e-9e80-3c6e65e35845",
   "metadata": {},
   "outputs": [],
   "source": []
  }
 ],
 "metadata": {
  "kernelspec": {
   "display_name": "sa-proj-ker",
   "language": "python",
   "name": "sa-proj-ker"
  },
  "language_info": {
   "codemirror_mode": {
    "name": "ipython",
    "version": 3
   },
   "file_extension": ".py",
   "mimetype": "text/x-python",
   "name": "python",
   "nbconvert_exporter": "python",
   "pygments_lexer": "ipython3",
   "version": "3.9.16"
  }
 },
 "nbformat": 4,
 "nbformat_minor": 5
}
